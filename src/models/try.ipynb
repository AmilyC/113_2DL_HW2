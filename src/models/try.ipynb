{
 "cells": [
  {
   "cell_type": "code",
   "execution_count": 6,
   "metadata": {},
   "outputs": [
    {
     "name": "stdout",
     "output_type": "stream",
     "text": [
      "torch.Size([1, 2, 388, 388])\n"
     ]
    }
   ],
   "source": [
    "import torch\n",
    "import torch.nn as nn\n",
    "import torch.nn.functional as F\n",
    "def f():\n",
    "   return nn.Conv2d(1,64 , kernel_size=3, stride=1, padding=0)# input channel /output channel / 步數/旁邊補零(沒有的話會捨棄邊緣)\n",
    "\n",
    "input_image = torch.randn(1,64,288,288) # 圖片張數,channel ,height, width\n",
    "input_image2 = torch.randn(1, 512,56,56) \n",
    "\n",
    "skip_connection = nn.ConvTranspose2d(1024, 512,2,stride=2,padding=0)\n",
    "conv =  nn.Conv2d(512, 256, kernel_size=3, stride=1, padding=1)\n",
    "conv = nn.Conv2d(in_channels=64, out_channels=2, kernel_size=3, stride=1, padding=1)\n",
    "output = F.interpolate(conv(input_image), size=(388, 388), mode='bilinear', align_corners=False)\n",
    "print(output.shape)\n",
    "# print(input_image)\n",
    "# conv = f()\n",
    "# out=conv(input_image)\n",
    "# print(out.shape)"
   ]
  },
  {
   "cell_type": "code",
   "execution_count": 2,
   "metadata": {},
   "outputs": [
    {
     "name": "stdout",
     "output_type": "stream",
     "text": [
      "torch.Size([1, 1, 56, 56])\n"
     ]
    }
   ],
   "source": [
    "up= nn.Upsample(scale_factor=2, mode='bilinear', align_corners=True)\n",
    "up_data= up(input_image)\n",
    "\n",
    "print(up_data.shape)"
   ]
  },
  {
   "cell_type": "code",
   "execution_count": 3,
   "metadata": {},
   "outputs": [
    {
     "name": "stdout",
     "output_type": "stream",
     "text": [
      "torch.Size([1, 1024, 56, 56])\n"
     ]
    }
   ],
   "source": [
    "x=torch.cat([input_image, input_image2], dim=1)\n",
    "print(x.shape)"
   ]
  },
  {
   "cell_type": "code",
   "execution_count": null,
   "metadata": {
    "vscode": {
     "languageId": "javascript"
    }
   },
   "outputs": [],
   "source": [
    "tensor([[[[-0.7297, -1.0934, -0.0274, -0.5034],\n",
    "   [-1.5512, -1.6715, -0.2422, -0.4051],\n",
    "   [-0.0863,  0.0569, -1.9998,  1.3868]],\n",
    "\n",
    "  [[ 0.1166,  1.0977, -1.2950, -0.1000],\n",
    "   [ 0.5715, -0.0127, -0.0411,  0.6812],\n",
    "   [-0.3630,  1.0452,  0.8311, -0.3565]]],\n",
    "\n",
    "\n",
    " [[[ 0.5265,  0.3500,  0.0407,  2.0403],\n",
    "   [-1.9025,  0.7608,  0.2994,  1.5383],\n",
    "   [ 0.9522,  1.0172, -1.2630,  0.1827]],\n",
    "\n",
    "  [[-0.6407,  0.7066,  0.1941, -1.6361],\n",
    "   [ 1.3116,  1.8938,  1.8244,  1.5531],\n",
    "   [ 0.4573,  0.1915,  0.1335, -2.0618]]],\n",
    "\n",
    "\n",
    " [[[ 0.9934,  1.8809, -0.5999,  0.1274],\n",
    "   [-0.4946, -0.0272, -1.8626,  0.4150],\n",
    "   [-1.0778, -0.4119,  0.3216, -1.6206]],\n",
    "\n",
    "  [[-0.5393, -0.6259, -0.4356, -0.2849],\n",
    "   [ 0.5299, -0.8655, -0.0824,  1.1323],\n",
    "   [-1.1234,  0.8403, -0.1436, -1.5126]]],\n",
    "\n",
    "\n",
    " [[[-1.8135, -0.5284, -0.0878, -0.0460],\n",
    "   [ 1.2790,  0.0826,  0.9745,  0.8163],\n",
    "   [ 0.5597, -1.5741, -0.8209, -0.7805]],\n",
    "\n",
    "  [[-1.0510, -0.2856,  1.1220,  0.4472],\n",
    "   [-1.3031, -1.4293, -0.1897, -0.8526],\n",
    "   [-0.7688, -0.5654,  0.7756,  0.9264]]],\n",
    "\n",
    "\n",
    " [[[ 0.1134,  0.2561, -0.2706,  2.0315],\n",
    "   [ 1.8004,  0.7172, -1.6203,  0.4801],\n",
    "   [ 0.0509, -1.1819, -1.0250,  0.1150]],\n",
    "\n",
    "  [[-0.8534, -1.1038, -1.1657,  0.2788],\n",
    "   [ 1.0383,  0.4028, -0.0579,  0.2583],\n",
    "   [ 0.0128,  0.8453,  1.9051,  0.4466]]]])"
   ]
  },
  {
   "cell_type": "code",
   "execution_count": null,
   "metadata": {},
   "outputs": [],
   "source": [
    "input_image = torch.randn(4, 256,104,104) # 圖片張數,channel ,height, width\n",
    "\n",
    "\n"
   ]
  },
  {
   "cell_type": "code",
   "execution_count": null,
   "metadata": {},
   "outputs": [],
   "source": [
    "inc = nn.Sequential(\n",
    "            nn.Conv2d(3,64,7,2,3,bias=False),\n",
    "            nn.BatchNorm2d(64),\n",
    "            nn.ReLU(),\n",
    "            nn.MaxPool2d(2,2,1)\n",
    "\n",
    ")"
   ]
  }
 ],
 "metadata": {
  "kernelspec": {
   "display_name": "dlhw",
   "language": "python",
   "name": "python3"
  },
  "language_info": {
   "codemirror_mode": {
    "name": "ipython",
    "version": 3
   },
   "file_extension": ".py",
   "mimetype": "text/x-python",
   "name": "python",
   "nbconvert_exporter": "python",
   "pygments_lexer": "ipython3",
   "version": "3.9.21"
  }
 },
 "nbformat": 4,
 "nbformat_minor": 2
}
